{
 "cells": [
  {
   "cell_type": "code",
   "execution_count": 1,
   "id": "836d1639-6b34-4e58-840b-aa5107807558",
   "metadata": {},
   "outputs": [
    {
     "name": "stderr",
     "output_type": "stream",
     "text": [
      "[nltk_data] Downloading package stopwords to\n",
      "[nltk_data]     C:\\Users\\Lenovo\\AppData\\Roaming\\nltk_data...\n",
      "[nltk_data]   Package stopwords is already up-to-date!\n"
     ]
    }
   ],
   "source": [
    "import pandas as pd\n",
    "import numpy as np\n",
    "import re\n",
    "\n",
    "import nltk\n",
    "from nltk.corpus import stopwords\n",
    "nltk.download('stopwords')\n",
    "from nltk.stem import SnowballStemmer\n",
    "from nltk.tokenize import TweetTokenizer\n",
    "\n",
    "from sklearn.model_selection import train_test_split\n",
    "from sklearn.metrics import classification_report\n",
    "\n",
    "from keras.models import Sequential\n",
    "from keras.layers import Dense\n",
    "from keras.layers import LSTM,SpatialDropout1D\n",
    "from keras.layers.embeddings import Embedding\n",
    "from keras.preprocessing import sequence\n",
    "from keras.preprocessing.text import Tokenizer"
   ]
  },
  {
   "cell_type": "code",
   "execution_count": 2,
   "id": "86fabe2c-6fbf-4a44-8343-a3fffa760850",
   "metadata": {},
   "outputs": [
    {
     "data": {
      "text/html": [
       "<div>\n",
       "<style scoped>\n",
       "    .dataframe tbody tr th:only-of-type {\n",
       "        vertical-align: middle;\n",
       "    }\n",
       "\n",
       "    .dataframe tbody tr th {\n",
       "        vertical-align: top;\n",
       "    }\n",
       "\n",
       "    .dataframe thead th {\n",
       "        text-align: right;\n",
       "    }\n",
       "</style>\n",
       "<table border=\"1\" class=\"dataframe\">\n",
       "  <thead>\n",
       "    <tr style=\"text-align: right;\">\n",
       "      <th></th>\n",
       "      <th>class</th>\n",
       "      <th>text</th>\n",
       "      <th>Unnamed: 2</th>\n",
       "    </tr>\n",
       "  </thead>\n",
       "  <tbody>\n",
       "    <tr>\n",
       "      <th>0</th>\n",
       "      <td>PI</td>\n",
       "      <td>What's the difference between the  iPhone X  a...</td>\n",
       "      <td>NaN</td>\n",
       "    </tr>\n",
       "    <tr>\n",
       "      <th>1</th>\n",
       "      <td>no</td>\n",
       "      <td>@ siracusa  just listened to Hypercritical #16...</td>\n",
       "      <td>NaN</td>\n",
       "    </tr>\n",
       "    <tr>\n",
       "      <th>2</th>\n",
       "      <td>PI</td>\n",
       "      <td>Same.  IPhone X  won't be bad   https:// twitt...</td>\n",
       "      <td>NaN</td>\n",
       "    </tr>\n",
       "    <tr>\n",
       "      <th>3</th>\n",
       "      <td>no</td>\n",
       "      <td>Ive had the iphone 8 plus and  iphone x  and i...</td>\n",
       "      <td>NaN</td>\n",
       "    </tr>\n",
       "    <tr>\n",
       "      <th>4</th>\n",
       "      <td>no</td>\n",
       "      <td>“  iphone x  for £150” do i have dickhead writ...</td>\n",
       "      <td>NaN</td>\n",
       "    </tr>\n",
       "  </tbody>\n",
       "</table>\n",
       "</div>"
      ],
      "text/plain": [
       "  class                                               text Unnamed: 2\n",
       "0    PI  What's the difference between the  iPhone X  a...        NaN\n",
       "1    no  @ siracusa  just listened to Hypercritical #16...        NaN\n",
       "2    PI  Same.  IPhone X  won't be bad   https:// twitt...        NaN\n",
       "3    no  Ive had the iphone 8 plus and  iphone x  and i...        NaN\n",
       "4    no  “  iphone x  for £150” do i have dickhead writ...        NaN"
      ]
     },
     "execution_count": 2,
     "metadata": {},
     "output_type": "execute_result"
    }
   ],
   "source": [
    "data=pd.read_csv(r\"F:\\FYP-II-master\\data\\training.csv\")\n",
    "data.head()"
   ]
  },
  {
   "cell_type": "code",
   "execution_count": 3,
   "id": "855cd9d6-4838-466d-a727-364ff6b89c16",
   "metadata": {},
   "outputs": [
    {
     "data": {
      "text/plain": [
       "(1683, 3)"
      ]
     },
     "execution_count": 3,
     "metadata": {},
     "output_type": "execute_result"
    }
   ],
   "source": [
    "data.shape"
   ]
  },
  {
   "cell_type": "code",
   "execution_count": 4,
   "id": "09462f81-d84c-45c1-8a0a-bf9b4188f914",
   "metadata": {},
   "outputs": [],
   "source": [
    "data=data.drop(columns=['Unnamed: 2'])"
   ]
  },
  {
   "cell_type": "code",
   "execution_count": 5,
   "id": "d12934ab-287a-4e7a-9cef-f232e180694c",
   "metadata": {},
   "outputs": [
    {
     "data": {
      "text/html": [
       "<div>\n",
       "<style scoped>\n",
       "    .dataframe tbody tr th:only-of-type {\n",
       "        vertical-align: middle;\n",
       "    }\n",
       "\n",
       "    .dataframe tbody tr th {\n",
       "        vertical-align: top;\n",
       "    }\n",
       "\n",
       "    .dataframe thead th {\n",
       "        text-align: right;\n",
       "    }\n",
       "</style>\n",
       "<table border=\"1\" class=\"dataframe\">\n",
       "  <thead>\n",
       "    <tr style=\"text-align: right;\">\n",
       "      <th></th>\n",
       "      <th>class</th>\n",
       "      <th>text</th>\n",
       "    </tr>\n",
       "  </thead>\n",
       "  <tbody>\n",
       "    <tr>\n",
       "      <th>0</th>\n",
       "      <td>PI</td>\n",
       "      <td>What's the difference between the  iPhone X  a...</td>\n",
       "    </tr>\n",
       "    <tr>\n",
       "      <th>1</th>\n",
       "      <td>no</td>\n",
       "      <td>@ siracusa  just listened to Hypercritical #16...</td>\n",
       "    </tr>\n",
       "    <tr>\n",
       "      <th>2</th>\n",
       "      <td>PI</td>\n",
       "      <td>Same.  IPhone X  won't be bad   https:// twitt...</td>\n",
       "    </tr>\n",
       "    <tr>\n",
       "      <th>3</th>\n",
       "      <td>no</td>\n",
       "      <td>Ive had the iphone 8 plus and  iphone x  and i...</td>\n",
       "    </tr>\n",
       "    <tr>\n",
       "      <th>4</th>\n",
       "      <td>no</td>\n",
       "      <td>“  iphone x  for £150” do i have dickhead writ...</td>\n",
       "    </tr>\n",
       "    <tr>\n",
       "      <th>5</th>\n",
       "      <td>PI</td>\n",
       "      <td>This  iPhone X  still very sexy a year later</td>\n",
       "    </tr>\n",
       "    <tr>\n",
       "      <th>7</th>\n",
       "      <td>PI</td>\n",
       "      <td>If not I'm using my kidney. Omo what is ferrar...</td>\n",
       "    </tr>\n",
       "    <tr>\n",
       "      <th>8</th>\n",
       "      <td>PI</td>\n",
       "      <td>iPhone X 's max for sale</td>\n",
       "    </tr>\n",
       "    <tr>\n",
       "      <th>9</th>\n",
       "      <td>no</td>\n",
       "      <td>Someone once told me that.....\\n\\nBut I've nev...</td>\n",
       "    </tr>\n",
       "    <tr>\n",
       "      <th>10</th>\n",
       "      <td>PI</td>\n",
       "      <td>screenshots from the  iphone x  look so clapped</td>\n",
       "    </tr>\n",
       "  </tbody>\n",
       "</table>\n",
       "</div>"
      ],
      "text/plain": [
       "   class                                               text\n",
       "0     PI  What's the difference between the  iPhone X  a...\n",
       "1     no  @ siracusa  just listened to Hypercritical #16...\n",
       "2     PI  Same.  IPhone X  won't be bad   https:// twitt...\n",
       "3     no  Ive had the iphone 8 plus and  iphone x  and i...\n",
       "4     no  “  iphone x  for £150” do i have dickhead writ...\n",
       "5     PI       This  iPhone X  still very sexy a year later\n",
       "7     PI  If not I'm using my kidney. Omo what is ferrar...\n",
       "8     PI                           iPhone X 's max for sale\n",
       "9     no  Someone once told me that.....\\n\\nBut I've nev...\n",
       "10    PI    screenshots from the  iphone x  look so clapped"
      ]
     },
     "execution_count": 5,
     "metadata": {},
     "output_type": "execute_result"
    }
   ],
   "source": [
    "data['class']=data['class'].replace(['Undefined','undefined'],'un')\n",
    "data=data[data['class']!='un']\n",
    "data.head(10)"
   ]
  },
  {
   "cell_type": "code",
   "execution_count": 6,
   "id": "70489d5f-5664-408c-91d5-e50e84007b6f",
   "metadata": {},
   "outputs": [
    {
     "data": {
      "text/plain": [
       "(904, 2)"
      ]
     },
     "execution_count": 6,
     "metadata": {},
     "output_type": "execute_result"
    }
   ],
   "source": [
    "data.shape"
   ]
  },
  {
   "cell_type": "code",
   "execution_count": 7,
   "id": "459ed795-614e-4456-a299-263e0aed9e40",
   "metadata": {},
   "outputs": [],
   "source": [
    "replace_space=re.compile('[/(){}\\[\\]\\|@,;]')\n",
    "replace_bad_symbol=re.compile('[^0-9a-z #+_]')\n",
    "Stopwords=set(stopwords.words('english'))"
   ]
  },
  {
   "cell_type": "code",
   "execution_count": 8,
   "id": "c3f91d1a-b689-4c0e-a4ca-c6bd2545ec02",
   "metadata": {},
   "outputs": [
    {
     "data": {
      "text/html": [
       "<div>\n",
       "<style scoped>\n",
       "    .dataframe tbody tr th:only-of-type {\n",
       "        vertical-align: middle;\n",
       "    }\n",
       "\n",
       "    .dataframe tbody tr th {\n",
       "        vertical-align: top;\n",
       "    }\n",
       "\n",
       "    .dataframe thead th {\n",
       "        text-align: right;\n",
       "    }\n",
       "</style>\n",
       "<table border=\"1\" class=\"dataframe\">\n",
       "  <thead>\n",
       "    <tr style=\"text-align: right;\">\n",
       "      <th></th>\n",
       "      <th>class</th>\n",
       "      <th>text</th>\n",
       "    </tr>\n",
       "  </thead>\n",
       "  <tbody>\n",
       "    <tr>\n",
       "      <th>0</th>\n",
       "      <td>PI</td>\n",
       "      <td>whats difference iphone x iphone x x max</td>\n",
       "    </tr>\n",
       "    <tr>\n",
       "      <th>1</th>\n",
       "      <td>no</td>\n",
       "      <td>siracusa listened hypercritical #16 whole epis...</td>\n",
       "    </tr>\n",
       "    <tr>\n",
       "      <th>2</th>\n",
       "      <td>PI</td>\n",
       "      <td>iphone x wont bad https twittercom afuaasam st...</td>\n",
       "    </tr>\n",
       "    <tr>\n",
       "      <th>3</th>\n",
       "      <td>no</td>\n",
       "      <td>ive iphone 8 plus iphone x id say iphone 8 plu...</td>\n",
       "    </tr>\n",
       "    <tr>\n",
       "      <th>4</th>\n",
       "      <td>no</td>\n",
       "      <td>iphone x 150 dickhead written</td>\n",
       "    </tr>\n",
       "    <tr>\n",
       "      <th>5</th>\n",
       "      <td>PI</td>\n",
       "      <td>iphone x still sexy year later</td>\n",
       "    </tr>\n",
       "    <tr>\n",
       "      <th>7</th>\n",
       "      <td>PI</td>\n",
       "      <td>im using kidney omo ferrari buggati iphone x m...</td>\n",
       "    </tr>\n",
       "    <tr>\n",
       "      <th>8</th>\n",
       "      <td>PI</td>\n",
       "      <td>iphone x max sale</td>\n",
       "    </tr>\n",
       "    <tr>\n",
       "      <th>9</th>\n",
       "      <td>no</td>\n",
       "      <td>someone told thatbut ive never seen ios turned...</td>\n",
       "    </tr>\n",
       "    <tr>\n",
       "      <th>10</th>\n",
       "      <td>PI</td>\n",
       "      <td>screenshots iphone x look clapped</td>\n",
       "    </tr>\n",
       "  </tbody>\n",
       "</table>\n",
       "</div>"
      ],
      "text/plain": [
       "   class                                               text\n",
       "0     PI           whats difference iphone x iphone x x max\n",
       "1     no  siracusa listened hypercritical #16 whole epis...\n",
       "2     PI  iphone x wont bad https twittercom afuaasam st...\n",
       "3     no  ive iphone 8 plus iphone x id say iphone 8 plu...\n",
       "4     no                      iphone x 150 dickhead written\n",
       "5     PI                     iphone x still sexy year later\n",
       "7     PI  im using kidney omo ferrari buggati iphone x m...\n",
       "8     PI                                  iphone x max sale\n",
       "9     no  someone told thatbut ive never seen ios turned...\n",
       "10    PI                  screenshots iphone x look clapped"
      ]
     },
     "execution_count": 8,
     "metadata": {},
     "output_type": "execute_result"
    }
   ],
   "source": [
    "def clean_text(text):\n",
    "    text=text.lower()\n",
    "    text=replace_space.sub(' ',text)\n",
    "    text=replace_bad_symbol.sub('',text)\n",
    "\n",
    "    text=' '.join(word for word in text.split() if word not in Stopwords)\n",
    "    return text\n",
    "\n",
    "data['text']=data['text'].apply(clean_text)\n",
    "data.head(10)"
   ]
  },
  {
   "cell_type": "code",
   "execution_count": 9,
   "id": "014a3488-71fe-4c1b-ae5c-19487e813e12",
   "metadata": {},
   "outputs": [
    {
     "data": {
      "text/plain": [
       "(904, 250)"
      ]
     },
     "execution_count": 9,
     "metadata": {},
     "output_type": "execute_result"
    }
   ],
   "source": [
    "t=Tokenizer(num_words=50000,lower=True)\n",
    "t.fit_on_texts(data['text'])\n",
    "x=t.texts_to_sequences(data['text'])\n",
    "x=sequence.pad_sequences(x,maxlen=250)\n",
    "x.shape"
   ]
  },
  {
   "cell_type": "code",
   "execution_count": 10,
   "id": "1a5a24c3-cf48-4e63-94c7-215e256de66a",
   "metadata": {},
   "outputs": [
    {
     "data": {
      "text/html": [
       "<div>\n",
       "<style scoped>\n",
       "    .dataframe tbody tr th:only-of-type {\n",
       "        vertical-align: middle;\n",
       "    }\n",
       "\n",
       "    .dataframe tbody tr th {\n",
       "        vertical-align: top;\n",
       "    }\n",
       "\n",
       "    .dataframe thead th {\n",
       "        text-align: right;\n",
       "    }\n",
       "</style>\n",
       "<table border=\"1\" class=\"dataframe\">\n",
       "  <thead>\n",
       "    <tr style=\"text-align: right;\">\n",
       "      <th></th>\n",
       "      <th>class</th>\n",
       "      <th>text</th>\n",
       "    </tr>\n",
       "  </thead>\n",
       "  <tbody>\n",
       "    <tr>\n",
       "      <th>0</th>\n",
       "      <td>1</td>\n",
       "      <td>whats difference iphone x iphone x x max</td>\n",
       "    </tr>\n",
       "    <tr>\n",
       "      <th>1</th>\n",
       "      <td>0</td>\n",
       "      <td>siracusa listened hypercritical #16 whole epis...</td>\n",
       "    </tr>\n",
       "    <tr>\n",
       "      <th>2</th>\n",
       "      <td>1</td>\n",
       "      <td>iphone x wont bad https twittercom afuaasam st...</td>\n",
       "    </tr>\n",
       "    <tr>\n",
       "      <th>3</th>\n",
       "      <td>0</td>\n",
       "      <td>ive iphone 8 plus iphone x id say iphone 8 plu...</td>\n",
       "    </tr>\n",
       "    <tr>\n",
       "      <th>4</th>\n",
       "      <td>0</td>\n",
       "      <td>iphone x 150 dickhead written</td>\n",
       "    </tr>\n",
       "    <tr>\n",
       "      <th>5</th>\n",
       "      <td>1</td>\n",
       "      <td>iphone x still sexy year later</td>\n",
       "    </tr>\n",
       "    <tr>\n",
       "      <th>7</th>\n",
       "      <td>1</td>\n",
       "      <td>im using kidney omo ferrari buggati iphone x m...</td>\n",
       "    </tr>\n",
       "    <tr>\n",
       "      <th>8</th>\n",
       "      <td>1</td>\n",
       "      <td>iphone x max sale</td>\n",
       "    </tr>\n",
       "    <tr>\n",
       "      <th>9</th>\n",
       "      <td>0</td>\n",
       "      <td>someone told thatbut ive never seen ios turned...</td>\n",
       "    </tr>\n",
       "    <tr>\n",
       "      <th>10</th>\n",
       "      <td>1</td>\n",
       "      <td>screenshots iphone x look clapped</td>\n",
       "    </tr>\n",
       "  </tbody>\n",
       "</table>\n",
       "</div>"
      ],
      "text/plain": [
       "    class                                               text\n",
       "0       1           whats difference iphone x iphone x x max\n",
       "1       0  siracusa listened hypercritical #16 whole epis...\n",
       "2       1  iphone x wont bad https twittercom afuaasam st...\n",
       "3       0  ive iphone 8 plus iphone x id say iphone 8 plu...\n",
       "4       0                      iphone x 150 dickhead written\n",
       "5       1                     iphone x still sexy year later\n",
       "7       1  im using kidney omo ferrari buggati iphone x m...\n",
       "8       1                                  iphone x max sale\n",
       "9       0  someone told thatbut ive never seen ios turned...\n",
       "10      1                  screenshots iphone x look clapped"
      ]
     },
     "execution_count": 10,
     "metadata": {},
     "output_type": "execute_result"
    }
   ],
   "source": [
    "data['class']=data['class'].replace(['no','No'],0)\n",
    "data['class']=data['class'].replace(['Pl','PI','yes','Yes'],1)\n",
    "data.head(10)"
   ]
  },
  {
   "cell_type": "code",
   "execution_count": 19,
   "id": "1a012fee-6a28-4e70-8519-a6ff1e4b314c",
   "metadata": {},
   "outputs": [
    {
     "name": "stdout",
     "output_type": "stream",
     "text": [
      "(813, 250) (91, 250)\n",
      "(813, 2) (91, 2)\n"
     ]
    },
    {
     "data": {
      "text/plain": [
       "(91, 2)"
      ]
     },
     "execution_count": 19,
     "metadata": {},
     "output_type": "execute_result"
    }
   ],
   "source": [
    "y=pd.get_dummies(data['class']).values\n",
    "x_train,x_test,y_train,y_test=train_test_split(x,y,test_size=0.1)\n",
    "print(x_train.shape,x_test.shape)\n",
    "print(y_train.shape,y_test.shape)\n",
    "y"
   ]
  },
  {
   "cell_type": "code",
   "execution_count": 16,
   "id": "d4933c9a-80ba-429f-91e2-77563fde29f8",
   "metadata": {},
   "outputs": [
    {
     "name": "stdout",
     "output_type": "stream",
     "text": [
      "Epoch 1/5\n",
      "12/12 [==============================] - 10s 514ms/step - loss: 0.6760 - accuracy: 0.5784 - val_loss: 0.6569 - val_accuracy: 0.6220\n",
      "Epoch 2/5\n",
      "12/12 [==============================] - 6s 480ms/step - loss: 0.6333 - accuracy: 0.6301 - val_loss: 0.6418 - val_accuracy: 0.6220\n",
      "Epoch 3/5\n",
      "12/12 [==============================] - 8s 637ms/step - loss: 0.5922 - accuracy: 0.6560 - val_loss: 0.6126 - val_accuracy: 0.6220\n",
      "Epoch 4/5\n",
      "12/12 [==============================] - 8s 666ms/step - loss: 0.4941 - accuracy: 0.8175 - val_loss: 0.6312 - val_accuracy: 0.6951\n",
      "Epoch 5/5\n",
      "12/12 [==============================] - 8s 661ms/step - loss: 0.2951 - accuracy: 0.9147 - val_loss: 0.6314 - val_accuracy: 0.7317\n"
     ]
    }
   ],
   "source": [
    "model=Sequential()\n",
    "model.add(Embedding(50000,100,input_length=x.shape[1]))\n",
    "model.add(SpatialDropout1D(0.2))\n",
    "model.add(LSTM(100,dropout=0.2,recurrent_dropout=0.2))\n",
    "model.add(Dense(2,activation='softmax'))\n",
    "model.compile(loss='categorical_crossentropy',optimizer='adam',metrics=['accuracy'])\n",
    "\n",
    "fit=model.fit(x_train,y_train,epochs=5,batch_size=64,validation_split=0.1)"
   ]
  },
  {
   "cell_type": "code",
   "execution_count": 17,
   "id": "7c54f22c-c578-431d-bc9b-3d14a4c1fc9c",
   "metadata": {},
   "outputs": [
    {
     "name": "stdout",
     "output_type": "stream",
     "text": [
      "3/3 [==============================] - 0s 67ms/step - loss: 0.4302 - accuracy: 0.7912\n"
     ]
    }
   ],
   "source": [
    "acr=model.evaluate(x_test,y_test)"
   ]
  },
  {
   "cell_type": "code",
   "execution_count": null,
   "id": "15dbfc4c-33bf-4f1c-813a-1d723e481d7f",
   "metadata": {},
   "outputs": [],
   "source": [
    "# model=Sequential()\n",
    "# model.add(Embedding(50000,100,input_length=x.shape[1]))\n",
    "# model.add(SpatialDropout1D(0.2))\n",
    "# model.add(LSTM(100,dropout=0.2,recurrent_dropout=0.2))\n",
    "# model.add(Dense(2,activation='softmax'))\n",
    "# model.compile(loss='categorical_crossentropy',optimizer='adam',metrics=['accuracy'])\n",
    "\n",
    "# fit=model.fit(x_train,y_train,epochs=5,batch_size=64,validation_split=0.1)"
   ]
  },
  {
   "cell_type": "code",
   "execution_count": null,
   "id": "1561b430-1768-4925-8c3d-2d0ef65c1472",
   "metadata": {},
   "outputs": [],
   "source": [
    "# acr=model.evaluate(x_test,y_test)"
   ]
  },
  {
   "cell_type": "code",
   "execution_count": 32,
   "id": "4bfe8f57-61f8-46be-9149-f1949a3ff1a4",
   "metadata": {},
   "outputs": [
    {
     "data": {
      "text/plain": [
       "(91, 1)"
      ]
     },
     "execution_count": 32,
     "metadata": {},
     "output_type": "execute_result"
    }
   ],
   "source": [
    "# cal=t.texts_to_sequences(test)\n",
    "cal=sequence.pad_sequences(x,maxlen=250)\n",
    "pred=model.predict_classes(x_test)\n",
    "pred=np.reshape(pred,(len(pred),1))\n",
    "pred.shape"
   ]
  },
  {
   "cell_type": "code",
   "execution_count": 33,
   "id": "4b39779d-7d4a-489c-8dde-2a15c5605e47",
   "metadata": {},
   "outputs": [
    {
     "data": {
      "text/plain": [
       "91"
      ]
     },
     "execution_count": 33,
     "metadata": {},
     "output_type": "execute_result"
    }
   ],
   "source": [
    "y=list(y_test)\n",
    "y2=[]\n",
    "for i in range(len(y)):\n",
    "    if y[i][0]==1:\n",
    "        y2.append(0)\n",
    "    else:\n",
    "        y2.append(1)\n",
    "len(y2)"
   ]
  },
  {
   "cell_type": "code",
   "execution_count": 35,
   "id": "e8b7417e-a8d8-4700-b17a-cfe839f41f83",
   "metadata": {},
   "outputs": [
    {
     "name": "stdout",
     "output_type": "stream",
     "text": [
      "              precision    recall  f1-score   support\n",
      "\n",
      "          no       0.89      0.91      0.90        34\n",
      "         yes       0.95      0.93      0.94        57\n",
      "\n",
      "    accuracy                           0.92        91\n",
      "   macro avg       0.92      0.92      0.92        91\n",
      "weighted avg       0.92      0.92      0.92        91\n",
      "\n"
     ]
    }
   ],
   "source": [
    "y_true = y2\n",
    "y_pred = list(pred)\n",
    "target_names = ['no','yes']\n",
    "print(classification_report(y_true, y_pred, target_names=target_names))"
   ]
  },
  {
   "cell_type": "code",
   "execution_count": null,
   "id": "8342771d-75fc-48d2-84c6-e8538a51167d",
   "metadata": {},
   "outputs": [],
   "source": []
  }
 ],
 "metadata": {
  "kernelspec": {
   "display_name": "Python 3",
   "language": "python",
   "name": "python3"
  },
  "language_info": {
   "codemirror_mode": {
    "name": "ipython",
    "version": 3
   },
   "file_extension": ".py",
   "mimetype": "text/x-python",
   "name": "python",
   "nbconvert_exporter": "python",
   "pygments_lexer": "ipython3",
   "version": "3.8.8"
  }
 },
 "nbformat": 4,
 "nbformat_minor": 5
}
